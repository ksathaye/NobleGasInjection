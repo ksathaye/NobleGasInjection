{
 "cells": [
  {
   "cell_type": "code",
   "execution_count": 1,
   "metadata": {
    "collapsed": false
   },
   "outputs": [
    {
     "name": "stdout",
     "output_type": "stream",
     "text": [
      "Populating the interactive namespace from numpy and matplotlib\n"
     ]
    }
   ],
   "source": [
    "%pylab inline\n",
    "import matplotlib.pyplot as plt\n",
    "import pandas as pd\n",
    "import numpy as np\n",
    "from sklearn import svm\n",
    "from sklearn import cluster"
   ]
  },
  {
   "cell_type": "markdown",
   "metadata": {},
   "source": [
    "This notebook demonstrates a classification of Marcellus groundwater data into three classes based on K-means clustering. These clusters will then be parameterized using support vector classification (SVC).  First, the data is loaded and cleaned:"
   ]
  },
  {
   "cell_type": "code",
   "execution_count": 2,
   "metadata": {
    "collapsed": false
   },
   "outputs": [],
   "source": [
    "Mar=pd.read_csv('MarcelData.csv')\n",
    "col=Mar.columns\n",
    "\n",
    "MethQuad=np.log10(Mar.methane)\n",
    "EthQuad=np.log10(Mar.ethane)\n",
    "\n",
    "EthQuad=EthQuad[np.isnan(MethQuad)==0]\n",
    "MethQuad=MethQuad[np.isnan(MethQuad)==0]\n",
    "\n",
    "minEth=np.nanmin(np.log10(Mar.ethane[Mar.ethane>0]))[0]\n",
    "EthQuad[np.isnan(EthQuad)]=minEth\n",
    "EthP=np.polyfit(MethQuad,EthQuad,4)\n",
    "\n",
    "EthGuess=np.polyval(EthP,MethQuad)\n",
    "\n",
    "Mar.ethane[np.isnan(Mar.ethane)]=np.polyval(EthP,np.log10(Mar.methane[np.isnan(Mar.ethane)]))\n",
    "Mar.ethane[np.log10(Mar.ethane)<4]=10**3.6\n",
    "\n",
    "for i in range(len(col)):\n",
    "    Mar=Mar[Mar[col[i]]>0]\n",
    "\n",
    "methData=np.log10(Mar.methane)\n",
    "MarAr=np.array(Mar)\n",
    "MarLog=np.log10(MarAr)\n",
    "MarLogP=np.log10(Mar)"
   ]
  },
  {
   "cell_type": "markdown",
   "metadata": {},
   "source": [
    "For this case, the classification will be done only using three of the 10 chemical measurements in this dataset, $^4$He, $^{20}$Ne, and methane. The data in this reduced space will now be clustered into 3 groups. "
   ]
  },
  {
   "cell_type": "code",
   "execution_count": 4,
   "metadata": {
    "collapsed": false
   },
   "outputs": [],
   "source": [
    "MarLogPReduced=MarLogP[list(['He4','Ne20','methane'])]\n",
    "k_means = cluster.KMeans(3);\n",
    "k_means.fit(MarLogPReduced);"
   ]
  },
  {
   "cell_type": "markdown",
   "metadata": {},
   "source": [
    "After classifying the geochemical data into 3 groups, the Scikit-learn Support Vector Machine tool is used to compute a support vector classification shceme. "
   ]
  },
  {
   "cell_type": "code",
   "execution_count": 6,
   "metadata": {
    "collapsed": true
   },
   "outputs": [],
   "source": [
    "svc = svm.SVC(kernel='linear')\n",
    "svc.fit(MarLogPReduced, k_means.labels_)\n",
    "Vec=svc.support_vectors_"
   ]
  },
  {
   "cell_type": "markdown",
   "metadata": {},
   "source": [
    "After computing the support vectors for the dataset, the next cell will plot two of the vectors as lines on a 2D projection of the data.  "
   ]
  },
  {
   "cell_type": "code",
   "execution_count": null,
   "metadata": {
    "collapsed": true
   },
   "outputs": [],
   "source": [
    "xpl=np.linspace(-1,5,10)\n",
    "Vec1=(svc.intercept_[0]+svc.coef_[0,0]*xpl)"
   ]
  }
 ],
 "metadata": {
  "kernelspec": {
   "display_name": "Python 2",
   "language": "python",
   "name": "python2"
  },
  "language_info": {
   "codemirror_mode": {
    "name": "ipython",
    "version": 2
   },
   "file_extension": ".py",
   "mimetype": "text/x-python",
   "name": "python",
   "nbconvert_exporter": "python",
   "pygments_lexer": "ipython2",
   "version": "2.7.11"
  }
 },
 "nbformat": 4,
 "nbformat_minor": 0
}
